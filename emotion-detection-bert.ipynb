{
 "cells": [
  {
   "cell_type": "code",
   "execution_count": 1,
   "id": "584b8254",
   "metadata": {
    "_cell_guid": "b1076dfc-b9ad-4769-8c92-a6c4dae69d19",
    "_uuid": "8f2839f25d086af736a60e9eeb907d3b93b6e0e5",
    "execution": {
     "iopub.execute_input": "2023-09-06T15:26:09.906344Z",
     "iopub.status.busy": "2023-09-06T15:26:09.905353Z",
     "iopub.status.idle": "2023-09-06T15:26:17.338978Z",
     "shell.execute_reply": "2023-09-06T15:26:17.337479Z"
    },
    "papermill": {
     "duration": 7.453531,
     "end_time": "2023-09-06T15:26:17.342541",
     "exception": false,
     "start_time": "2023-09-06T15:26:09.889010",
     "status": "completed"
    },
    "tags": []
   },
   "outputs": [],
   "source": [
    "import pandas as pd\n",
    "import numpy as np\n",
    "import seaborn as sns\n",
    "import matplotlib.pyplot as plt\n",
    "from tqdm import tqdm\n",
    "\n",
    "import torch\n",
    "import torch.nn as nn\n",
    "from torch.utils.data import Dataset, DataLoader\n",
    "from transformers import BertTokenizer, BertModel\n",
    "\n",
    "\n",
    "from sklearn.preprocessing import LabelEncoder\n",
    "from sklearn.model_selection import train_test_split"
   ]
  },
  {
   "cell_type": "markdown",
   "id": "04a230c8",
   "metadata": {
    "papermill": {
     "duration": 0.012724,
     "end_time": "2023-09-06T15:26:17.369033",
     "exception": false,
     "start_time": "2023-09-06T15:26:17.356309",
     "status": "completed"
    },
    "tags": []
   },
   "source": [
    "# Data Preparation"
   ]
  },
  {
   "cell_type": "code",
   "execution_count": 2,
   "id": "d7274cb3",
   "metadata": {
    "execution": {
     "iopub.execute_input": "2023-09-06T15:26:17.398313Z",
     "iopub.status.busy": "2023-09-06T15:26:17.396944Z",
     "iopub.status.idle": "2023-09-06T15:26:17.512678Z",
     "shell.execute_reply": "2023-09-06T15:26:17.511224Z"
    },
    "papermill": {
     "duration": 0.134447,
     "end_time": "2023-09-06T15:26:17.516255",
     "exception": false,
     "start_time": "2023-09-06T15:26:17.381808",
     "status": "completed"
    },
    "tags": []
   },
   "outputs": [],
   "source": [
    "# load the dataset\n",
    "train_df = pd.read_csv('dataset/train.txt', names=['text', 'emotion'], sep=';')\n",
    "val_df = pd.read_csv('dataset/val.txt', names=['text', 'emotion'], sep=';')\n",
    "test_df = pd.read_csv('dataset/test.txt', names=['text', 'emotion'], sep=';')"
   ]
  },
  {
   "cell_type": "code",
   "execution_count": 3,
   "id": "ff01b49d",
   "metadata": {
    "execution": {
     "iopub.execute_input": "2023-09-06T15:26:17.545630Z",
     "iopub.status.busy": "2023-09-06T15:26:17.545204Z",
     "iopub.status.idle": "2023-09-06T15:26:17.554030Z",
     "shell.execute_reply": "2023-09-06T15:26:17.552834Z"
    },
    "papermill": {
     "duration": 0.02738,
     "end_time": "2023-09-06T15:26:17.557378",
     "exception": false,
     "start_time": "2023-09-06T15:26:17.529998",
     "status": "completed"
    },
    "tags": []
   },
   "outputs": [
    {
     "data": {
      "text/plain": [
       "(16000, 2)"
      ]
     },
     "execution_count": 3,
     "metadata": {},
     "output_type": "execute_result"
    }
   ],
   "source": [
    "train_df.shape"
   ]
  },
  {
   "cell_type": "code",
   "execution_count": 4,
   "id": "56c9f971",
   "metadata": {
    "execution": {
     "iopub.execute_input": "2023-09-06T15:26:17.587067Z",
     "iopub.status.busy": "2023-09-06T15:26:17.585597Z",
     "iopub.status.idle": "2023-09-06T15:26:17.604103Z",
     "shell.execute_reply": "2023-09-06T15:26:17.602893Z"
    },
    "papermill": {
     "duration": 0.036341,
     "end_time": "2023-09-06T15:26:17.607038",
     "exception": false,
     "start_time": "2023-09-06T15:26:17.570697",
     "status": "completed"
    },
    "tags": []
   },
   "outputs": [
    {
     "data": {
      "text/html": [
       "<div>\n",
       "<style scoped>\n",
       "    .dataframe tbody tr th:only-of-type {\n",
       "        vertical-align: middle;\n",
       "    }\n",
       "\n",
       "    .dataframe tbody tr th {\n",
       "        vertical-align: top;\n",
       "    }\n",
       "\n",
       "    .dataframe thead th {\n",
       "        text-align: right;\n",
       "    }\n",
       "</style>\n",
       "<table border=\"1\" class=\"dataframe\">\n",
       "  <thead>\n",
       "    <tr style=\"text-align: right;\">\n",
       "      <th></th>\n",
       "      <th>text</th>\n",
       "      <th>emotion</th>\n",
       "    </tr>\n",
       "  </thead>\n",
       "  <tbody>\n",
       "    <tr>\n",
       "      <th>0</th>\n",
       "      <td>i didnt feel humiliated</td>\n",
       "      <td>sadness</td>\n",
       "    </tr>\n",
       "    <tr>\n",
       "      <th>1</th>\n",
       "      <td>i can go from feeling so hopeless to so damned...</td>\n",
       "      <td>sadness</td>\n",
       "    </tr>\n",
       "    <tr>\n",
       "      <th>2</th>\n",
       "      <td>im grabbing a minute to post i feel greedy wrong</td>\n",
       "      <td>anger</td>\n",
       "    </tr>\n",
       "    <tr>\n",
       "      <th>3</th>\n",
       "      <td>i am ever feeling nostalgic about the fireplac...</td>\n",
       "      <td>love</td>\n",
       "    </tr>\n",
       "    <tr>\n",
       "      <th>4</th>\n",
       "      <td>i am feeling grouchy</td>\n",
       "      <td>anger</td>\n",
       "    </tr>\n",
       "  </tbody>\n",
       "</table>\n",
       "</div>"
      ],
      "text/plain": [
       "                                                text  emotion\n",
       "0                            i didnt feel humiliated  sadness\n",
       "1  i can go from feeling so hopeless to so damned...  sadness\n",
       "2   im grabbing a minute to post i feel greedy wrong    anger\n",
       "3  i am ever feeling nostalgic about the fireplac...     love\n",
       "4                               i am feeling grouchy    anger"
      ]
     },
     "execution_count": 4,
     "metadata": {},
     "output_type": "execute_result"
    }
   ],
   "source": [
    "train_df.head()"
   ]
  },
  {
   "cell_type": "markdown",
   "id": "14f7e6d5",
   "metadata": {
    "papermill": {
     "duration": 0.01296,
     "end_time": "2023-09-06T15:26:17.633524",
     "exception": false,
     "start_time": "2023-09-06T15:26:17.620564",
     "status": "completed"
    },
    "tags": []
   },
   "source": [
    "## Quick EDA"
   ]
  },
  {
   "cell_type": "markdown",
   "id": "6abc3dab",
   "metadata": {
    "papermill": {
     "duration": 0.012791,
     "end_time": "2023-09-06T15:26:17.661098",
     "exception": false,
     "start_time": "2023-09-06T15:26:17.648307",
     "status": "completed"
    },
    "tags": []
   },
   "source": [
    "## Unique emotions"
   ]
  },
  {
   "cell_type": "code",
   "execution_count": 5,
   "id": "a99bc7fb",
   "metadata": {
    "execution": {
     "iopub.execute_input": "2023-09-06T15:26:17.688881Z",
     "iopub.status.busy": "2023-09-06T15:26:17.688456Z",
     "iopub.status.idle": "2023-09-06T15:26:17.985176Z",
     "shell.execute_reply": "2023-09-06T15:26:17.983835Z"
    },
    "papermill": {
     "duration": 0.313519,
     "end_time": "2023-09-06T15:26:17.987932",
     "exception": false,
     "start_time": "2023-09-06T15:26:17.674413",
     "status": "completed"
    },
    "tags": []
   },
   "outputs": [
    {
     "data": {
      "image/png": "[encoded data removed]",
      "text/plain": [
       "<Figure size 640x480 with 1 Axes>"
      ]
     },
     "metadata": {},
     "output_type": "display_data"
    }
   ],
   "source": [
    "sns.countplot(data=train_df, x=\"emotion\");"
   ]
  },
  {
   "cell_type": "markdown",
   "id": "ec2c6d98",
   "metadata": {
    "papermill": {
     "duration": 0.013376,
     "end_time": "2023-09-06T15:26:18.015028",
     "exception": false,
     "start_time": "2023-09-06T15:26:18.001652",
     "status": "completed"
    },
    "tags": []
   },
   "source": [
    "**Imbalance can be seen in the labels**"
   ]
  },
  {
   "cell_type": "markdown",
   "id": "791bea9e",
   "metadata": {
    "papermill": {
     "duration": 0.016354,
     "end_time": "2023-09-06T15:26:18.045716",
     "exception": false,
     "start_time": "2023-09-06T15:26:18.029362",
     "status": "completed"
    },
    "tags": []
   },
   "source": [
    "### Statistics about length of text"
   ]
  },
  {
   "cell_type": "code",
   "execution_count": 6,
   "id": "eea913b0",
   "metadata": {
    "execution": {
     "iopub.execute_input": "2023-09-06T15:26:18.076694Z",
     "iopub.status.busy": "2023-09-06T15:26:18.076257Z",
     "iopub.status.idle": "2023-09-06T15:26:18.092046Z",
     "shell.execute_reply": "2023-09-06T15:26:18.090811Z"
    },
    "papermill": {
     "duration": 0.034189,
     "end_time": "2023-09-06T15:26:18.094744",
     "exception": false,
     "start_time": "2023-09-06T15:26:18.060555",
     "status": "completed"
    },
    "tags": []
   },
   "outputs": [],
   "source": [
    "train_df['text_length'] = train_df['text'].apply(len)"
   ]
  },
  {
   "cell_type": "code",
   "execution_count": 7,
   "id": "2d46fd2c",
   "metadata": {
    "execution": {
     "iopub.execute_input": "2023-09-06T15:26:18.125110Z",
     "iopub.status.busy": "2023-09-06T15:26:18.124180Z",
     "iopub.status.idle": "2023-09-06T15:26:18.137875Z",
     "shell.execute_reply": "2023-09-06T15:26:18.136289Z"
    },
    "papermill": {
     "duration": 0.031619,
     "end_time": "2023-09-06T15:26:18.141067",
     "exception": false,
     "start_time": "2023-09-06T15:26:18.109448",
     "status": "completed"
    },
    "tags": []
   },
   "outputs": [
    {
     "data": {
      "text/plain": [
       "count    16000.000000\n",
       "mean        96.845812\n",
       "std         55.904953\n",
       "min          7.000000\n",
       "25%         53.000000\n",
       "50%         86.000000\n",
       "75%        129.000000\n",
       "max        300.000000\n",
       "Name: text_length, dtype: float64"
      ]
     },
     "execution_count": 7,
     "metadata": {},
     "output_type": "execute_result"
    }
   ],
   "source": [
    "summary = train_df['text_length'].describe()\n",
    "summary"
   ]
  },
  {
   "cell_type": "markdown",
   "id": "2b5fd515",
   "metadata": {
    "papermill": {
     "duration": 0.013612,
     "end_time": "2023-09-06T15:26:18.169235",
     "exception": false,
     "start_time": "2023-09-06T15:26:18.155623",
     "status": "completed"
    },
    "tags": []
   },
   "source": [
    "**maximum length** of the text in the dataset is 300 but 75% of the values are behind 129 and median is around 86 thus there's a skewness present in the dataset"
   ]
  },
  {
   "cell_type": "code",
   "execution_count": 8,
   "id": "c2c8da2a",
   "metadata": {
    "execution": {
     "iopub.execute_input": "2023-09-06T15:26:18.198177Z",
     "iopub.status.busy": "2023-09-06T15:26:18.197754Z",
     "iopub.status.idle": "2023-09-06T15:26:18.412086Z",
     "shell.execute_reply": "2023-09-06T15:26:18.410833Z"
    },
    "papermill": {
     "duration": 0.231765,
     "end_time": "2023-09-06T15:26:18.414802",
     "exception": false,
     "start_time": "2023-09-06T15:26:18.183037",
     "status": "completed"
    },
    "tags": []
   },
   "outputs": [
    {
     "data": {
      "image/png": "[encoded data removed]",
      "text/plain": [
       "<Figure size 640x480 with 1 Axes>"
      ]
     },
     "metadata": {},
     "output_type": "display_data"
    }
   ],
   "source": [
    "sns.boxplot(data=train_df, x='text_length');"
   ]
  },
  {
   "cell_type": "code",
   "execution_count": 9,
   "id": "4bb9b50d",
   "metadata": {
    "execution": {
     "iopub.execute_input": "2023-09-06T15:26:18.446375Z",
     "iopub.status.busy": "2023-09-06T15:26:18.445331Z",
     "iopub.status.idle": "2023-09-06T15:26:19.018951Z",
     "shell.execute_reply": "2023-09-06T15:26:19.017815Z"
    },
    "papermill": {
     "duration": 0.591761,
     "end_time": "2023-09-06T15:26:19.021614",
     "exception": false,
     "start_time": "2023-09-06T15:26:18.429853",
     "status": "completed"
    },
    "tags": []
   },
   "outputs": [
    {
     "data": {
      "image/png": "[encoded data removed]",
      "text/plain": [
       "<Figure size 640x480 with 1 Axes>"
      ]
     },
     "metadata": {},
     "output_type": "display_data"
    }
   ],
   "source": [
    "sns.histplot(data=train_df, x='text_length')\n",
    "plt.axvline(summary['min'], color='r', linestyle='--', label='Min')\n",
    "plt.axvline(summary['25%'], color='b', linestyle='--', label='25%')\n",
    "plt.axvline(summary['50%'], color='g', linestyle='--', label='Median')\n",
    "plt.axvline(summary['75%'], color='b', linestyle='--', label='75%')\n",
    "plt.axvline(summary['max'], color='r', linestyle='--', label='Max')\n",
    "plt.legend();"
   ]
  },
  {
   "cell_type": "markdown",
   "id": "7597ed98",
   "metadata": {
    "papermill": {
     "duration": 0.019251,
     "end_time": "2023-09-06T15:26:19.055893",
     "exception": false,
     "start_time": "2023-09-06T15:26:19.036642",
     "status": "completed"
    },
    "tags": []
   },
   "source": [
    "Since 75% of the values fall below length 129, using max_length 300 for our NLP algorithms would not be the best decision because it will result in sparser data because we will need to add a lot of padding to texts."
   ]
  },
  {
   "cell_type": "markdown",
   "id": "1b138979",
   "metadata": {
    "papermill": {
     "duration": 0.015102,
     "end_time": "2023-09-06T15:26:19.086236",
     "exception": false,
     "start_time": "2023-09-06T15:26:19.071134",
     "status": "completed"
    },
    "tags": []
   },
   "source": [
    "## Column Encoding"
   ]
  },
  {
   "cell_type": "code",
   "execution_count": 10,
   "id": "83a8d4f2",
   "metadata": {
    "execution": {
     "iopub.execute_input": "2023-09-06T15:26:19.118842Z",
     "iopub.status.busy": "2023-09-06T15:26:19.117613Z",
     "iopub.status.idle": "2023-09-06T15:26:19.131341Z",
     "shell.execute_reply": "2023-09-06T15:26:19.130222Z"
    },
    "papermill": {
     "duration": 0.032382,
     "end_time": "2023-09-06T15:26:19.133874",
     "exception": false,
     "start_time": "2023-09-06T15:26:19.101492",
     "status": "completed"
    },
    "tags": []
   },
   "outputs": [],
   "source": [
    "# encode the emotion column\n",
    "le = LabelEncoder()\n",
    "train_df['emotion'] = le.fit_transform(train_df['emotion'])\n",
    "val_df['emotion'] = le.transform(val_df['emotion'])"
   ]
  },
  {
   "cell_type": "markdown",
   "id": "0a6add71",
   "metadata": {
    "papermill": {
     "duration": 0.01401,
     "end_time": "2023-09-06T15:26:19.162397",
     "exception": false,
     "start_time": "2023-09-06T15:26:19.148387",
     "status": "completed"
    },
    "tags": []
   },
   "source": [
    "## Emotion Dataset"
   ]
  },
  {
   "cell_type": "code",
   "execution_count": 11,
   "id": "012364aa",
   "metadata": {
    "execution": {
     "iopub.execute_input": "2023-09-06T15:26:19.193060Z",
     "iopub.status.busy": "2023-09-06T15:26:19.191901Z",
     "iopub.status.idle": "2023-09-06T15:26:19.203356Z",
     "shell.execute_reply": "2023-09-06T15:26:19.202193Z"
    },
    "papermill": {
     "duration": 0.029684,
     "end_time": "2023-09-06T15:26:19.206081",
     "exception": false,
     "start_time": "2023-09-06T15:26:19.176397",
     "status": "completed"
    },
    "tags": []
   },
   "outputs": [],
   "source": [
    "class EmotionDataset(Dataset):\n",
    "    def __init__(self, df, tokenizer, max_len):\n",
    "        self.df = df\n",
    "        self.tokenizer = tokenizer\n",
    "        self.max_len = max_len\n",
    "    \n",
    "    def __len__(self):\n",
    "        return len(self.df)\n",
    "    \n",
    "    def __getitem__(self, index):\n",
    "        text = str(self.df.loc[index, 'text'])\n",
    "        emotion = self.df.loc[index, 'emotion']\n",
    "        \n",
    "        encoding = self.tokenizer.encode_plus(\n",
    "            text,\n",
    "            add_special_tokens=True,\n",
    "            truncation=True,\n",
    "            max_length=self.max_len,\n",
    "            return_token_type_ids=False,\n",
    "            padding='max_length',\n",
    "            return_attention_mask=True,\n",
    "            return_tensors='pt',\n",
    "        )\n",
    "        \n",
    "        return {\n",
    "            'text': text,\n",
    "            'input_ids': encoding['input_ids'].flatten(),\n",
    "            'attention_mask': encoding['attention_mask'].flatten(),\n",
    "            'emotion': torch.tensor(emotion, dtype=torch.long)\n",
    "        }"
   ]
  },
  {
   "cell_type": "markdown",
   "id": "f71416d6",
   "metadata": {
    "papermill": {
     "duration": 0.015198,
     "end_time": "2023-09-06T15:26:19.236641",
     "exception": false,
     "start_time": "2023-09-06T15:26:19.221443",
     "status": "completed"
    },
    "tags": []
   },
   "source": [
    "## Tokenizer"
   ]
  },
  {
   "cell_type": "code",
   "execution_count": 12,
   "id": "3bd99b5f",
   "metadata": {
    "execution": {
     "iopub.execute_input": "2023-09-06T15:26:19.268411Z",
     "iopub.status.busy": "2023-09-06T15:26:19.267469Z",
     "iopub.status.idle": "2023-09-06T15:26:20.174995Z",
     "shell.execute_reply": "2023-09-06T15:26:20.173955Z"
    },
    "papermill": {
     "duration": 0.926155,
     "end_time": "2023-09-06T15:26:20.177902",
     "exception": false,
     "start_time": "2023-09-06T15:26:19.251747",
     "status": "completed"
    },
    "tags": []
   },
   "outputs": [
    {
     "data": {
      "application/vnd.jupyter.widget-view+json": {
       "model_id": "fefa7f9340d643e3b678a7f08abbe2c6",
       "version_major": 2,
       "version_minor": 0
      },
      "text/plain": [
       "Downloading (…)solve/main/vocab.txt:   0%|          | 0.00/232k [00:00<?, ?B/s]"
      ]
     },
     "metadata": {},
     "output_type": "display_data"
    },
    {
     "data": {
      "application/vnd.jupyter.widget-view+json": {
       "model_id": "3df7beed52244425bc12b536f0819964",
       "version_major": 2,
       "version_minor": 0
      },
      "text/plain": [
       "Downloading (…)okenizer_config.json:   0%|          | 0.00/28.0 [00:00<?, ?B/s]"
      ]
     },
     "metadata": {},
     "output_type": "display_data"
    },
    {
     "data": {
      "application/vnd.jupyter.widget-view+json": {
       "model_id": "f347a19ac3024545b0c86fc2c932295a",
       "version_major": 2,
       "version_minor": 0
      },
      "text/plain": [
       "Downloading (…)lve/main/config.json:   0%|          | 0.00/570 [00:00<?, ?B/s]"
      ]
     },
     "metadata": {},
     "output_type": "display_data"
    }
   ],
   "source": [
    "# create an instance of the BERT tokenizer\n",
    "tokenizer = BertTokenizer.from_pretrained('bert-base-uncased')"
   ]
  },
  {
   "cell_type": "code",
   "execution_count": 13,
   "id": "c5c5fc62",
   "metadata": {
    "execution": {
     "iopub.execute_input": "2023-09-06T15:26:20.212007Z",
     "iopub.status.busy": "2023-09-06T15:26:20.210859Z",
     "iopub.status.idle": "2023-09-06T15:26:20.218692Z",
     "shell.execute_reply": "2023-09-06T15:26:20.217506Z"
    },
    "papermill": {
     "duration": 0.027813,
     "end_time": "2023-09-06T15:26:20.221394",
     "exception": false,
     "start_time": "2023-09-06T15:26:20.193581",
     "status": "completed"
    },
    "tags": []
   },
   "outputs": [],
   "source": [
    "# set the batch size\n",
    "batch_size = 32\n",
    "\n",
    "# set the maximum sequence length\n",
    "max_len = 150\n",
    "\n",
    "# create data loaders for the training and validation sets\n",
    "train_dataset = EmotionDataset(train_df, tokenizer, max_len)\n",
    "train_loader = DataLoader(train_dataset, batch_size=batch_size, shuffle=True)\n",
    "\n",
    "val_dataset = EmotionDataset(val_df, tokenizer, max_len)\n",
    "val_loader = DataLoader(val_dataset, batch_size=batch_size)"
   ]
  },
  {
   "cell_type": "markdown",
   "id": "96112793",
   "metadata": {
    "papermill": {
     "duration": 0.015476,
     "end_time": "2023-09-06T15:26:20.252743",
     "exception": false,
     "start_time": "2023-09-06T15:26:20.237267",
     "status": "completed"
    },
    "tags": []
   },
   "source": [
    "# Model"
   ]
  },
  {
   "cell_type": "code",
   "execution_count": 14,
   "id": "6d427780",
   "metadata": {
    "execution": {
     "iopub.execute_input": "2023-09-06T15:26:20.286217Z",
     "iopub.status.busy": "2023-09-06T15:26:20.285035Z",
     "iopub.status.idle": "2023-09-06T15:26:20.295807Z",
     "shell.execute_reply": "2023-09-06T15:26:20.294542Z"
    },
    "papermill": {
     "duration": 0.030623,
     "end_time": "2023-09-06T15:26:20.298812",
     "exception": false,
     "start_time": "2023-09-06T15:26:20.268189",
     "status": "completed"
    },
    "tags": []
   },
   "outputs": [],
   "source": [
    "class BertSentimentClassifier(nn.Module):\n",
    "    def __init__(self, bert_model_name, num_classes):\n",
    "        super(BertSentimentClassifier, self).__init__()\n",
    "        \n",
    "        self.bert = BertModel.from_pretrained(bert_model_name)\n",
    "        self.dropout1 = nn.Dropout(0.2)\n",
    "        self.fc1 = nn.Linear(self.bert.config.hidden_size, 256)\n",
    "        self.dropout2 = nn.Dropout(0.2)\n",
    "        self.fc2 = nn.Linear(256, num_classes)\n",
    "\n",
    "\n",
    "    def forward(self, input_ids, attention_mask):\n",
    "        outputs = self.bert(input_ids=input_ids, attention_mask=attention_mask)\n",
    "        pooled_output = outputs.pooler_output\n",
    "        pooled_output = self.dropout1(pooled_output)\n",
    "        output = self.fc1(pooled_output)\n",
    "        output = self.dropout2(output)\n",
    "        logits = self.fc2(output)\n",
    "        \n",
    "        return logits"
   ]
  },
  {
   "cell_type": "code",
   "execution_count": 15,
   "id": "10c73d08",
   "metadata": {
    "execution": {
     "iopub.execute_input": "2023-09-06T15:26:20.331880Z",
     "iopub.status.busy": "2023-09-06T15:26:20.330847Z",
     "iopub.status.idle": "2023-09-06T15:26:24.632448Z",
     "shell.execute_reply": "2023-09-06T15:26:24.631138Z"
    },
    "papermill": {
     "duration": 4.321172,
     "end_time": "2023-09-06T15:26:24.635530",
     "exception": false,
     "start_time": "2023-09-06T15:26:20.314358",
     "status": "completed"
    },
    "tags": []
   },
   "outputs": [
    {
     "data": {
      "application/vnd.jupyter.widget-view+json": {
       "model_id": "b4d011731c1442a5aa7abe59e2ff16e3",
       "version_major": 2,
       "version_minor": 0
      },
      "text/plain": [
       "Downloading pytorch_model.bin:   0%|          | 0.00/440M [00:00<?, ?B/s]"
      ]
     },
     "metadata": {},
     "output_type": "display_data"
    },
    {
     "name": "stderr",
     "output_type": "stream",
     "text": [
      "Some weights of the model checkpoint at bert-base-uncased were not used when initializing BertModel: ['cls.predictions.transform.LayerNorm.bias', 'cls.predictions.transform.dense.bias', 'cls.seq_relationship.bias', 'cls.seq_relationship.weight', 'cls.predictions.transform.dense.weight', 'cls.predictions.transform.LayerNorm.weight', 'cls.predictions.bias', 'cls.predictions.decoder.weight']\n",
      "- This IS expected if you are initializing BertModel from the checkpoint of a model trained on another task or with another architecture (e.g. initializing a BertForSequenceClassification model from a BertForPreTraining model).\n",
      "- This IS NOT expected if you are initializing BertModel from the checkpoint of a model that you expect to be exactly identical (initializing a BertForSequenceClassification model from a BertForSequenceClassification model).\n"
     ]
    }
   ],
   "source": [
    "bert_model_name = \"bert-base-uncased\"\n",
    "num_classes = train_df[\"emotion\"].nunique()\n",
    "model = BertSentimentClassifier(bert_model_name, num_classes)"
   ]
  },
  {
   "cell_type": "code",
   "execution_count": 16,
   "id": "4e454f94",
   "metadata": {
    "execution": {
     "iopub.execute_input": "2023-09-06T15:26:24.669839Z",
     "iopub.status.busy": "2023-09-06T15:26:24.669401Z",
     "iopub.status.idle": "2023-09-06T15:26:24.676079Z",
     "shell.execute_reply": "2023-09-06T15:26:24.674891Z"
    },
    "papermill": {
     "duration": 0.027049,
     "end_time": "2023-09-06T15:26:24.678884",
     "exception": false,
     "start_time": "2023-09-06T15:26:24.651835",
     "status": "completed"
    },
    "tags": []
   },
   "outputs": [],
   "source": [
    "criterion = nn.CrossEntropyLoss()"
   ]
  },
  {
   "cell_type": "markdown",
   "id": "1009d744",
   "metadata": {
    "papermill": {
     "duration": 0.016144,
     "end_time": "2023-09-06T15:26:24.711393",
     "exception": false,
     "start_time": "2023-09-06T15:26:24.695249",
     "status": "completed"
    },
    "tags": []
   },
   "source": [
    "# Training"
   ]
  },
  {
   "cell_type": "code",
   "execution_count": 17,
   "id": "1a465d21",
   "metadata": {
    "execution": {
     "iopub.execute_input": "2023-09-06T15:26:24.745535Z",
     "iopub.status.busy": "2023-09-06T15:26:24.745119Z",
     "iopub.status.idle": "2023-09-06T15:26:24.756637Z",
     "shell.execute_reply": "2023-09-06T15:26:24.755468Z"
    },
    "papermill": {
     "duration": 0.031819,
     "end_time": "2023-09-06T15:26:24.759474",
     "exception": false,
     "start_time": "2023-09-06T15:26:24.727655",
     "status": "completed"
    },
    "tags": []
   },
   "outputs": [],
   "source": [
    "def train(model, data_loader, optimizer, criterion, device):\n",
    "    # set the model to train mode\n",
    "    model.train()\n",
    "    \n",
    "    # initialize the loss and accuracy \n",
    "    total_loss, total_accuracy = 0, 0\n",
    "    \n",
    "    # iterate over the data loader\n",
    "    for data in tqdm(data_loader):\n",
    "        # move the inputs to the device\n",
    "        input_ids = data['input_ids'].to(device)\n",
    "        attention_mask = data['attention_mask'].to(device)\n",
    "        labels = data['emotion'].to(device)\n",
    "        \n",
    "        # zero the gradient\n",
    "        optimizer.zero_grad()\n",
    "    \n",
    "        # get the model's predictions\n",
    "        outputs = model(input_ids, attention_mask)\n",
    "\n",
    "        # get the loss\n",
    "        loss = criterion(outputs, labels)\n",
    "        total_loss += loss.item()\n",
    "        \n",
    "        # accuracy calculation\n",
    "        logits = outputs.detach().cpu().numpy()\n",
    "        label_ids = labels.to('cpu').numpy()\n",
    "\n",
    "        total_accuracy += flat_accuracy(logits, label_ids)\n",
    "\n",
    "        # perform backpropagation and optimization\n",
    "        loss.backward()\n",
    "        optimizer.step()\n",
    "\n",
    "    # calculate the average loss\n",
    "    avg_loss = total_loss / len(data_loader)\n",
    "    avg_acc = total_accuracy / len(data_loader)\n",
    "\n",
    "\n",
    "    return avg_loss, avg_acc"
   ]
  },
  {
   "cell_type": "code",
   "execution_count": 18,
   "id": "d41a3916",
   "metadata": {
    "execution": {
     "iopub.execute_input": "2023-09-06T15:26:24.791891Z",
     "iopub.status.busy": "2023-09-06T15:26:24.791494Z",
     "iopub.status.idle": "2023-09-06T15:26:24.802296Z",
     "shell.execute_reply": "2023-09-06T15:26:24.801096Z"
    },
    "papermill": {
     "duration": 0.030159,
     "end_time": "2023-09-06T15:26:24.805342",
     "exception": false,
     "start_time": "2023-09-06T15:26:24.775183",
     "status": "completed"
    },
    "tags": []
   },
   "outputs": [],
   "source": [
    "def evaluate(model, data_loader, criterion, device):\n",
    "    # set the model to eval mode\n",
    "    model.eval()\n",
    "    \n",
    "    # initialize the loss and accuracy variables\n",
    "    total_loss = 0\n",
    "    total_accuracy = 0\n",
    "    \n",
    "    # iterate over the data loader\n",
    "    for data in tqdm(data_loader):\n",
    "        # move the inputs to the device\n",
    "        input_ids = data['input_ids'].to(device)\n",
    "        attention_mask = data['attention_mask'].to(device)\n",
    "        labels = data['emotion'].to(device)\n",
    "        \n",
    "        # disable gradient computation\n",
    "        with torch.no_grad():\n",
    "            # get the model's predictions\n",
    "            outputs = model(input_ids, attention_mask)\n",
    "            \n",
    "            # get the loss\n",
    "            loss = criterion(outputs, labels)\n",
    "            total_loss += loss.item()\n",
    "            \n",
    "            # calculate the number of correct predictions\n",
    "            logits = outputs.detach().cpu().numpy()\n",
    "            label_ids = labels.to('cpu').numpy()\n",
    "\n",
    "            total_accuracy += flat_accuracy(logits, label_ids)\n",
    "    \n",
    "    # calculate the average loss and accuracy\n",
    "    avg_loss = total_loss / len(data_loader)\n",
    "    accuracy = total_accuracy / len(data_loader)\n",
    "    \n",
    "    return avg_loss, accuracy"
   ]
  },
  {
   "cell_type": "code",
   "execution_count": 19,
   "id": "3127afaf",
   "metadata": {
    "execution": {
     "iopub.execute_input": "2023-09-06T15:26:24.838843Z",
     "iopub.status.busy": "2023-09-06T15:26:24.838417Z",
     "iopub.status.idle": "2023-09-06T15:26:24.844779Z",
     "shell.execute_reply": "2023-09-06T15:26:24.843547Z"
    },
    "papermill": {
     "duration": 0.025967,
     "end_time": "2023-09-06T15:26:24.847243",
     "exception": false,
     "start_time": "2023-09-06T15:26:24.821276",
     "status": "completed"
    },
    "tags": []
   },
   "outputs": [],
   "source": [
    "def flat_accuracy(preds, labels):\n",
    "    pred_flat = np.argmax(preds, axis=1).flatten()\n",
    "    labels_flat = labels.flatten()\n",
    "    return np.sum(pred_flat == labels_flat) / len(labels_flat)"
   ]
  },
  {
   "cell_type": "code",
   "execution_count": 20,
   "id": "668ea385",
   "metadata": {
    "execution": {
     "iopub.execute_input": "2023-09-06T15:26:24.880918Z",
     "iopub.status.busy": "2023-09-06T15:26:24.880503Z",
     "iopub.status.idle": "2023-09-06T16:10:06.794557Z",
     "shell.execute_reply": "2023-09-06T16:10:06.793334Z"
    },
    "papermill": {
     "duration": 2621.934561,
     "end_time": "2023-09-06T16:10:06.797866",
     "exception": false,
     "start_time": "2023-09-06T15:26:24.863305",
     "status": "completed"
    },
    "tags": []
   },
   "outputs": [
    {
     "name": "stdout",
     "output_type": "stream",
     "text": [
      "Epoch 1 \n"
     ]
    },
    {
     "name": "stderr",
     "output_type": "stream",
     "text": [
      "100%|██████████| 500/500 [04:09<00:00,  2.00it/s]\n",
      "100%|██████████| 63/63 [00:11<00:00,  5.38it/s]\n"
     ]
    },
    {
     "name": "stdout",
     "output_type": "stream",
     "text": [
      "Train Loss: 0.5931 | Train Acc: 0.7956 | Val Loss: 0.1926 | Val Acc: 0.9266\n",
      "Epoch 2 \n"
     ]
    },
    {
     "name": "stderr",
     "output_type": "stream",
     "text": [
      "100%|██████████| 500/500 [04:08<00:00,  2.01it/s]\n",
      "100%|██████████| 63/63 [00:11<00:00,  5.32it/s]\n"
     ]
    },
    {
     "name": "stdout",
     "output_type": "stream",
     "text": [
      "Train Loss: 0.1486 | Train Acc: 0.9414 | Val Loss: 0.1570 | Val Acc: 0.9335\n",
      "Epoch 3 \n"
     ]
    },
    {
     "name": "stderr",
     "output_type": "stream",
     "text": [
      "100%|██████████| 500/500 [04:09<00:00,  2.01it/s]\n",
      "100%|██████████| 63/63 [00:11<00:00,  5.27it/s]\n"
     ]
    },
    {
     "name": "stdout",
     "output_type": "stream",
     "text": [
      "Train Loss: 0.1106 | Train Acc: 0.9493 | Val Loss: 0.1508 | Val Acc: 0.9315\n",
      "Epoch 4 \n"
     ]
    },
    {
     "name": "stderr",
     "output_type": "stream",
     "text": [
      "100%|██████████| 500/500 [04:09<00:00,  2.01it/s]\n",
      "100%|██████████| 63/63 [00:12<00:00,  5.24it/s]\n"
     ]
    },
    {
     "name": "stdout",
     "output_type": "stream",
     "text": [
      "Train Loss: 0.0911 | Train Acc: 0.9564 | Val Loss: 0.1365 | Val Acc: 0.9365\n",
      "Epoch 5 \n"
     ]
    },
    {
     "name": "stderr",
     "output_type": "stream",
     "text": [
      "100%|██████████| 500/500 [04:08<00:00,  2.01it/s]\n",
      "100%|██████████| 63/63 [00:11<00:00,  5.30it/s]\n"
     ]
    },
    {
     "name": "stdout",
     "output_type": "stream",
     "text": [
      "Train Loss: 0.0816 | Train Acc: 0.9597 | Val Loss: 0.1380 | Val Acc: 0.9405\n",
      "Epoch 6 \n"
     ]
    },
    {
     "name": "stderr",
     "output_type": "stream",
     "text": [
      "100%|██████████| 500/500 [04:09<00:00,  2.01it/s]\n",
      "100%|██████████| 63/63 [00:11<00:00,  5.34it/s]\n"
     ]
    },
    {
     "name": "stdout",
     "output_type": "stream",
     "text": [
      "Train Loss: 0.0771 | Train Acc: 0.9624 | Val Loss: 0.1424 | Val Acc: 0.9360\n",
      "Epoch 7 \n"
     ]
    },
    {
     "name": "stderr",
     "output_type": "stream",
     "text": [
      "100%|██████████| 500/500 [04:09<00:00,  2.01it/s]\n",
      "100%|██████████| 63/63 [00:11<00:00,  5.31it/s]\n"
     ]
    },
    {
     "name": "stdout",
     "output_type": "stream",
     "text": [
      "Train Loss: 0.0646 | Train Acc: 0.9721 | Val Loss: 0.1627 | Val Acc: 0.9345\n",
      "Epoch 8 \n"
     ]
    },
    {
     "name": "stderr",
     "output_type": "stream",
     "text": [
      "100%|██████████| 500/500 [04:09<00:00,  2.01it/s]\n",
      "100%|██████████| 63/63 [00:11<00:00,  5.26it/s]\n"
     ]
    },
    {
     "name": "stdout",
     "output_type": "stream",
     "text": [
      "Train Loss: 0.0546 | Train Acc: 0.9772 | Val Loss: 0.1865 | Val Acc: 0.9390\n",
      "Epoch 9 \n"
     ]
    },
    {
     "name": "stderr",
     "output_type": "stream",
     "text": [
      "100%|██████████| 500/500 [04:09<00:00,  2.00it/s]\n",
      "100%|██████████| 63/63 [00:11<00:00,  5.29it/s]\n"
     ]
    },
    {
     "name": "stdout",
     "output_type": "stream",
     "text": [
      "Train Loss: 0.0454 | Train Acc: 0.9815 | Val Loss: 0.1725 | Val Acc: 0.9370\n",
      "Epoch 10 \n"
     ]
    },
    {
     "name": "stderr",
     "output_type": "stream",
     "text": [
      "100%|██████████| 500/500 [04:09<00:00,  2.00it/s]\n",
      "100%|██████████| 63/63 [00:11<00:00,  5.34it/s]\n"
     ]
    },
    {
     "name": "stdout",
     "output_type": "stream",
     "text": [
      "Train Loss: 0.0381 | Train Acc: 0.9860 | Val Loss: 0.2152 | Val Acc: 0.9365\n"
     ]
    }
   ],
   "source": [
    "# set the device\n",
    "device = torch.device('cuda' if torch.cuda.is_available() else 'cpu')\n",
    "\n",
    "# set the learning rate\n",
    "lr = 2e-5\n",
    "\n",
    "# set the number of epochs\n",
    "num_epochs = 10\n",
    "\n",
    "# set the optimizer\n",
    "optimizer = torch.optim.Adam(model.parameters(), lr=lr)\n",
    "\n",
    "# move the model to the device\n",
    "model.to(device)\n",
    "\n",
    "# lists to store metrics\n",
    "train_losses = []\n",
    "train_accuracies = []\n",
    "\n",
    "val_losses = []\n",
    "val_accuracies = []\n",
    "\n",
    "# iterate over the epochs\n",
    "for epoch in range(num_epochs):\n",
    "    print(f'Epoch {epoch + 1} ')\n",
    "    # train the model\n",
    "    train_loss, train_acc = train(model, train_loader, optimizer, criterion, device)\n",
    "    \n",
    "    # evaluate the model on the validation set\n",
    "    val_loss, val_acc = evaluate(model, val_loader, criterion, device)\n",
    "    \n",
    "    # print the loss and accuracy\n",
    "    print(f'Train Loss: {train_loss:.4f} | Train Acc: {train_acc:.4f} | Val Loss: {val_loss:.4f} | Val Acc: {val_acc:.4f}')\n",
    "        \n",
    "    # Save the loss and accuracy values\n",
    "    train_accuracies.append(train_acc)\n",
    "    train_losses.append(train_loss)\n",
    "    val_losses.append(val_loss)\n",
    "    val_accuracies.append(val_acc)\n",
    "\n",
    "    # Save the model weights\n",
    "    torch.save(model.state_dict(), f'weights_epoch{epoch + 1}.pt')"
   ]
  },
  {
   "cell_type": "code",
   "execution_count": 21,
   "id": "b1f52c6e",
   "metadata": {
    "execution": {
     "iopub.execute_input": "2023-09-06T16:10:07.868642Z",
     "iopub.status.busy": "2023-09-06T16:10:07.868214Z",
     "iopub.status.idle": "2023-09-06T16:10:07.879213Z",
     "shell.execute_reply": "2023-09-06T16:10:07.877948Z"
    },
    "papermill": {
     "duration": 0.584713,
     "end_time": "2023-09-06T16:10:07.881969",
     "exception": false,
     "start_time": "2023-09-06T16:10:07.297256",
     "status": "completed"
    },
    "tags": []
   },
   "outputs": [],
   "source": [
    "import matplotlib.pyplot as plt\n",
    "\n",
    "def plot_metrics(train_losses, val_losses, train_accuracies, val_accuracies):\n",
    "    fig, ax = plt.subplots(1, 2, figsize=(12, 4))\n",
    "    \n",
    "    # Plot the training loss curve\n",
    "    ax[0].plot(train_losses, label='Training Loss')\n",
    "    ax[0].plot(val_losses, label='Validation Loss')\n",
    "    \n",
    "    ax[0].set_xlabel('Epoch')\n",
    "    ax[0].set_ylabel('Loss')\n",
    "    ax[0].set_title('Training and Validation Loss')\n",
    "    ax[0].legend()\n",
    "    \n",
    "    # Plot the training accuracy curve\n",
    "    ax[1].plot(train_accuracies, label='Training Accuracy')\n",
    "    ax[1].plot(val_accuracies, label='Validation Accuracy')\n",
    "    ax[1].set_xlabel('Epoch')\n",
    "    ax[1].set_ylabel('Accuracy')\n",
    "    ax[1].set_title('Training and Validation Accuracy')\n",
    "    \n",
    "    plt.show()\n"
   ]
  },
  {
   "cell_type": "markdown",
   "id": "26db1940",
   "metadata": {
    "papermill": {
     "duration": 0.50713,
     "end_time": "2023-09-06T16:10:08.891535",
     "exception": false,
     "start_time": "2023-09-06T16:10:08.384405",
     "status": "completed"
    },
    "tags": []
   },
   "source": [
    "# Test"
   ]
  },
  {
   "cell_type": "code",
   "execution_count": 22,
   "id": "260df258",
   "metadata": {
    "execution": {
     "iopub.execute_input": "2023-09-06T16:10:09.901019Z",
     "iopub.status.busy": "2023-09-06T16:10:09.899674Z",
     "iopub.status.idle": "2023-09-06T16:10:09.912250Z",
     "shell.execute_reply": "2023-09-06T16:10:09.910983Z"
    },
    "papermill": {
     "duration": 0.514186,
     "end_time": "2023-09-06T16:10:09.914529",
     "exception": false,
     "start_time": "2023-09-06T16:10:09.400343",
     "status": "completed"
    },
    "tags": []
   },
   "outputs": [
    {
     "data": {
      "text/plain": [
       "'im still feeling pretty low and demotivated including ups'"
      ]
     },
     "execution_count": 22,
     "metadata": {},
     "output_type": "execute_result"
    }
   ],
   "source": [
    "input_text = test_df.sample(n=1).text.values[0]\n",
    "input_text"
   ]
  },
  {
   "cell_type": "code",
   "execution_count": 23,
   "id": "458aa7ab",
   "metadata": {
    "execution": {
     "iopub.execute_input": "2023-09-06T16:10:10.990833Z",
     "iopub.status.busy": "2023-09-06T16:10:10.989644Z",
     "iopub.status.idle": "2023-09-06T16:10:10.997724Z",
     "shell.execute_reply": "2023-09-06T16:10:10.996614Z"
    },
    "papermill": {
     "duration": 0.512206,
     "end_time": "2023-09-06T16:10:11.000461",
     "exception": false,
     "start_time": "2023-09-06T16:10:10.488255",
     "status": "completed"
    },
    "tags": []
   },
   "outputs": [],
   "source": [
    "encoded_input = tokenizer.encode_plus(\n",
    "    input_text, \n",
    "    add_special_tokens=True,\n",
    "    truncation=True,\n",
    "    max_length= max_len,\n",
    "    return_token_type_ids=False,\n",
    "    padding='max_length',\n",
    "    return_attention_mask=True,\n",
    "    return_tensors='pt',\n",
    ").to(device)"
   ]
  },
  {
   "cell_type": "code",
   "execution_count": 24,
   "id": "46e80159",
   "metadata": {
    "execution": {
     "iopub.execute_input": "2023-09-06T16:10:12.026500Z",
     "iopub.status.busy": "2023-09-06T16:10:12.026098Z",
     "iopub.status.idle": "2023-09-06T16:10:12.064641Z",
     "shell.execute_reply": "2023-09-06T16:10:12.063426Z"
    },
    "papermill": {
     "duration": 0.550946,
     "end_time": "2023-09-06T16:10:12.067622",
     "exception": false,
     "start_time": "2023-09-06T16:10:11.516676",
     "status": "completed"
    },
    "tags": []
   },
   "outputs": [],
   "source": [
    "emotion_id = torch.argmax(model(**encoded_input), dim=1).item()"
   ]
  },
  {
   "cell_type": "code",
   "execution_count": 25,
   "id": "22afccba",
   "metadata": {
    "execution": {
     "iopub.execute_input": "2023-09-06T16:10:13.142853Z",
     "iopub.status.busy": "2023-09-06T16:10:13.142402Z",
     "iopub.status.idle": "2023-09-06T16:10:13.151015Z",
     "shell.execute_reply": "2023-09-06T16:10:13.149694Z"
    },
    "papermill": {
     "duration": 0.569981,
     "end_time": "2023-09-06T16:10:13.153801",
     "exception": false,
     "start_time": "2023-09-06T16:10:12.583820",
     "status": "completed"
    },
    "tags": []
   },
   "outputs": [
    {
     "data": {
      "text/plain": [
       "array(['sadness'], dtype=object)"
      ]
     },
     "execution_count": 25,
     "metadata": {},
     "output_type": "execute_result"
    }
   ],
   "source": [
    "le.inverse_transform([emotion_id])"
   ]
  },
  {
   "cell_type": "code",
   "execution_count": 26,
   "id": "6917d287",
   "metadata": {
    "execution": {
     "iopub.execute_input": "2023-09-06T16:10:14.186263Z",
     "iopub.status.busy": "2023-09-06T16:10:14.185587Z",
     "iopub.status.idle": "2023-09-06T16:10:14.613524Z",
     "shell.execute_reply": "2023-09-06T16:10:14.611835Z"
    },
    "papermill": {
     "duration": 0.964897,
     "end_time": "2023-09-06T16:10:14.616884",
     "exception": false,
     "start_time": "2023-09-06T16:10:13.651987",
     "status": "completed"
    },
    "tags": []
   },
   "outputs": [
    {
     "data": {
      "image/png": "[encoded data removed]",
      "text/plain": [
       "<Figure size 1200x400 with 2 Axes>"
      ]
     },
     "metadata": {},
     "output_type": "display_data"
    }
   ],
   "source": [
    "plot_metrics(train_losses, val_losses, train_accuracies, val_accuracies)"
   ]
  },
  {
   "cell_type": "code",
   "execution_count": null,
   "id": "1149beff",
   "metadata": {
    "papermill": {
     "duration": 0.499431,
     "end_time": "2023-09-06T16:10:15.619880",
     "exception": false,
     "start_time": "2023-09-06T16:10:15.120449",
     "status": "completed"
    },
    "tags": []
   },
   "outputs": [],
   "source": []
  }
 ],
 "kernelspec": {
  "display_name": "Python 3",
  "language": "python",
  "name": "python3"
 },
 "language_info": {
  "codemirror_mode": {
   "name": "ipython",
   "version": 3
  },
  "file_extension": ".py",
  "mimetype": "text/x-python",
  "name": "python",
  "nbconvert_exporter": "python",
  "pygments_lexer": "ipython3",
  "version": "3.6.4"
 },
 "metadata": {
  "kernelspec": {
   "display_name": "Python 3",
   "language": "python",
   "name": "python3"
  },
  "language_info": {
   "codemirror_mode": {
    "name": "ipython",
    "version": 3
   },
   "file_extension": ".py",
   "mimetype": "text/x-python",
   "name": "python",
   "nbconvert_exporter": "python",
   "pygments_lexer": "ipython3",
   "version": "3.7.12"
  },
  "papermill": {
   "default_parameters": {},
   "duration": 2661.082771,
   "end_time": "2023-09-06T16:10:19.171047",
   "environment_variables": {},
   "exception": null,
   "input_path": "__notebook__.ipynb",
   "output_path": "__notebook__.ipynb",
   "parameters": {},
   "start_time": "2023-09-06T15:25:58.088276",
   "version": "2.4.0"
  },
  "widgets": {
   "application/vnd.jupyter.widget-state+json": {
    "state": {
     "008fb63e1b8943d2871bf19ff41db10a": {
      "model_module": "@jupyter-widgets/controls",
      "model_module_version": "1.5.0",
      "model_name": "DescriptionStyleModel",
      "state": {
       "_model_module": "@jupyter-widgets/controls",
       "_model_module_version": "1.5.0",
       "_model_name": "DescriptionStyleModel",
       "_view_count": null,
       "_view_module": "@jupyter-widgets/base",
       "_view_module_version": "1.2.0",
       "_view_name": "StyleView",
       "description_width": ""
      }
     },
     "043dc14cff5c49378aa0335c0279b834": {
      "model_module": "@jupyter-widgets/controls",
      "model_module_version": "1.5.0",
      "model_name": "FloatProgressModel",
      "state": {
       "_dom_classes": [],
       "_model_module": "@jupyter-widgets/controls",
       "_model_module_version": "1.5.0",
       "_model_name": "FloatProgressModel",
       "_view_count": null,
       "_view_module": "@jupyter-widgets/controls",
       "_view_module_version": "1.5.0",
       "_view_name": "ProgressView",
       "bar_style": "success",
       "description": "",
       "description_tooltip": null,
       "layout": "IPY_MODEL_04cf1521dc824197894de309e7f2f8a7",
       "max": 440473133,
       "min": 0,
       "orientation": "horizontal",
       "style": "IPY_MODEL_c3dadf90890a45a982eaf922ee0b8bcf",
       "value": 440473133
      }
     },
     "04cf1521dc824197894de309e7f2f8a7": {
      "model_module": "@jupyter-widgets/base",
      "model_module_version": "1.2.0",
      "model_name": "LayoutModel",
      "state": {
       "_model_module": "@jupyter-widgets/base",
       "_model_module_version": "1.2.0",
       "_model_name": "LayoutModel",
       "_view_count": null,
       "_view_module": "@jupyter-widgets/base",
       "_view_module_version": "1.2.0",
       "_view_name": "LayoutView",
       "align_content": null,
       "align_items": null,
       "align_self": null,
       "border": null,
       "bottom": null,
       "display": null,
       "flex": null,
       "flex_flow": null,
       "grid_area": null,
       "grid_auto_columns": null,
       "grid_auto_flow": null,
       "grid_auto_rows": null,
       "grid_column": null,
       "grid_gap": null,
       "grid_row": null,
       "grid_template_areas": null,
       "grid_template_columns": null,
       "grid_template_rows": null,
       "height": null,
       "justify_content": null,
       "justify_items": null,
       "left": null,
       "margin": null,
       "max_height": null,
       "max_width": null,
       "min_height": null,
       "min_width": null,
       "object_fit": null,
       "object_position": null,
       "order": null,
       "overflow": null,
       "overflow_x": null,
       "overflow_y": null,
       "padding": null,
       "right": null,
       "top": null,
       "visibility": null,
       "width": null
      }
     },
     "25bf38f74db14a02a3f328acb4949b1b": {
      "model_module": "@jupyter-widgets/base",
      "model_module_version": "1.2.0",
      "model_name": "LayoutModel",
      "state": {
       "_model_module": "@jupyter-widgets/base",
       "_model_module_version": "1.2.0",
       "_model_name": "LayoutModel",
       "_view_count": null,
       "_view_module": "@jupyter-widgets/base",
       "_view_module_version": "1.2.0",
       "_view_name": "LayoutView",
       "align_content": null,
       "align_items": null,
       "align_self": null,
       "border": null,
       "bottom": null,
       "display": null,
       "flex": null,
       "flex_flow": null,
       "grid_area": null,
       "grid_auto_columns": null,
       "grid_auto_flow": null,
       "grid_auto_rows": null,
       "grid_column": null,
       "grid_gap": null,
       "grid_row": null,
       "grid_template_areas": null,
       "grid_template_columns": null,
       "grid_template_rows": null,
       "height": null,
       "justify_content": null,
       "justify_items": null,
       "left": null,
       "margin": null,
       "max_height": null,
       "max_width": null,
       "min_height": null,
       "min_width": null,
       "object_fit": null,
       "object_position": null,
       "order": null,
       "overflow": null,
       "overflow_x": null,
       "overflow_y": null,
       "padding": null,
       "right": null,
       "top": null,
       "visibility": null,
       "width": null
      }
     },
     "2602ec937a9840c9a8161e80e569c6a1": {
      "model_module": "@jupyter-widgets/base",
      "model_module_version": "1.2.0",
      "model_name": "LayoutModel",
      "state": {
       "_model_module": "@jupyter-widgets/base",
       "_model_module_version": "1.2.0",
       "_model_name": "LayoutModel",
       "_view_count": null,
       "_view_module": "@jupyter-widgets/base",
       "_view_module_version": "1.2.0",
       "_view_name": "LayoutView",
       "align_content": null,
       "align_items": null,
       "align_self": null,
       "border": null,
       "bottom": null,
       "display": null,
       "flex": null,
       "flex_flow": null,
       "grid_area": null,
       "grid_auto_columns": null,
       "grid_auto_flow": null,
       "grid_auto_rows": null,
       "grid_column": null,
       "grid_gap": null,
       "grid_row": null,
       "grid_template_areas": null,
       "grid_template_columns": null,
       "grid_template_rows": null,
       "height": null,
       "justify_content": null,
       "justify_items": null,
       "left": null,
       "margin": null,
       "max_height": null,
       "max_width": null,
       "min_height": null,
       "min_width": null,
       "object_fit": null,
       "object_position": null,
       "order": null,
       "overflow": null,
       "overflow_x": null,
       "overflow_y": null,
       "padding": null,
       "right": null,
       "top": null,
       "visibility": null,
       "width": null
      }
     },
     "3347ca430c3042a58fcb6888c06ee377": {
      "model_module": "@jupyter-widgets/controls",
      "model_module_version": "1.5.0",
      "model_name": "HTMLModel",
      "state": {
       "_dom_classes": [],
       "_model_module": "@jupyter-widgets/controls",
       "_model_module_version": "1.5.0",
       "_model_name": "HTMLModel",
       "_view_count": null,
       "_view_module": "@jupyter-widgets/controls",
       "_view_module_version": "1.5.0",
       "_view_name": "HTMLView",
       "description": "",
       "description_tooltip": null,
       "layout": "IPY_MODEL_9426c78f726047b19ee79f37a36bc46b",
       "placeholder": "​",
       "style": "IPY_MODEL_b77b72a5f3e54ecab6a24d9a13dc881d",
       "value": " 28.0/28.0 [00:00&lt;00:00, 1.07kB/s]"
      }
     },
     "34e82c9afe9f41ac8e2839df1605cd6f": {
      "model_module": "@jupyter-widgets/controls",
      "model_module_version": "1.5.0",
      "model_name": "DescriptionStyleModel",
      "state": {
       "_model_module": "@jupyter-widgets/controls",
       "_model_module_version": "1.5.0",
       "_model_name": "DescriptionStyleModel",
       "_view_count": null,
       "_view_module": "@jupyter-widgets/base",
       "_view_module_version": "1.2.0",
       "_view_name": "StyleView",
       "description_width": ""
      }
     },
     "3a9201d928714e378cb4ca84b87dbded": {
      "model_module": "@jupyter-widgets/controls",
      "model_module_version": "1.5.0",
      "model_name": "ProgressStyleModel",
      "state": {
       "_model_module": "@jupyter-widgets/controls",
       "_model_module_version": "1.5.0",
       "_model_name": "ProgressStyleModel",
       "_view_count": null,
       "_view_module": "@jupyter-widgets/base",
       "_view_module_version": "1.2.0",
       "_view_name": "StyleView",
       "bar_color": null,
       "description_width": ""
      }
     },
     "3df7beed52244425bc12b536f0819964": {
      "model_module": "@jupyter-widgets/controls",
      "model_module_version": "1.5.0",
      "model_name": "HBoxModel",
      "state": {
       "_dom_classes": [],
       "_model_module": "@jupyter-widgets/controls",
       "_model_module_version": "1.5.0",
       "_model_name": "HBoxModel",
       "_view_count": null,
       "_view_module": "@jupyter-widgets/controls",
       "_view_module_version": "1.5.0",
       "_view_name": "HBoxView",
       "box_style": "",
       "children": [
        "IPY_MODEL_654f82d94486415d82d7758b7db7dc80",
        "IPY_MODEL_d3b75a338b7b483caaeaf8d2b1ded2ba",
        "IPY_MODEL_3347ca430c3042a58fcb6888c06ee377"
       ],
       "layout": "IPY_MODEL_460a18e4ba6f4863ba0d92a88056d13b"
      }
     },
     "460a18e4ba6f4863ba0d92a88056d13b": {
      "model_module": "@jupyter-widgets/base",
      "model_module_version": "1.2.0",
      "model_name": "LayoutModel",
      "state": {
       "_model_module": "@jupyter-widgets/base",
       "_model_module_version": "1.2.0",
       "_model_name": "LayoutModel",
       "_view_count": null,
       "_view_module": "@jupyter-widgets/base",
       "_view_module_version": "1.2.0",
       "_view_name": "LayoutView",
       "align_content": null,
       "align_items": null,
       "align_self": null,
       "border": null,
       "bottom": null,
       "display": null,
       "flex": null,
       "flex_flow": null,
       "grid_area": null,
       "grid_auto_columns": null,
       "grid_auto_flow": null,
       "grid_auto_rows": null,
       "grid_column": null,
       "grid_gap": null,
       "grid_row": null,
       "grid_template_areas": null,
       "grid_template_columns": null,
       "grid_template_rows": null,
       "height": null,
       "justify_content": null,
       "justify_items": null,
       "left": null,
       "margin": null,
       "max_height": null,
       "max_width": null,
       "min_height": null,
       "min_width": null,
       "object_fit": null,
       "object_position": null,
       "order": null,
       "overflow": null,
       "overflow_x": null,
       "overflow_y": null,
       "padding": null,
       "right": null,
       "top": null,
       "visibility": null,
       "width": null
      }
     },
     "4ea25db237a74661aa61992ef269451f": {
      "model_module": "@jupyter-widgets/base",
      "model_module_version": "1.2.0",
      "model_name": "LayoutModel",
      "state": {
       "_model_module": "@jupyter-widgets/base",
       "_model_module_version": "1.2.0",
       "_model_name": "LayoutModel",
       "_view_count": null,
       "_view_module": "@jupyter-widgets/base",
       "_view_module_version": "1.2.0",
       "_view_name": "LayoutView",
       "align_content": null,
       "align_items": null,
       "align_self": null,
       "border": null,
       "bottom": null,
       "display": null,
       "flex": null,
       "flex_flow": null,
       "grid_area": null,
       "grid_auto_columns": null,
       "grid_auto_flow": null,
       "grid_auto_rows": null,
       "grid_column": null,
       "grid_gap": null,
       "grid_row": null,
       "grid_template_areas": null,
       "grid_template_columns": null,
       "grid_template_rows": null,
       "height": null,
       "justify_content": null,
       "justify_items": null,
       "left": null,
       "margin": null,
       "max_height": null,
       "max_width": null,
       "min_height": null,
       "min_width": null,
       "object_fit": null,
       "object_position": null,
       "order": null,
       "overflow": null,
       "overflow_x": null,
       "overflow_y": null,
       "padding": null,
       "right": null,
       "top": null,
       "visibility": null,
       "width": null
      }
     },
     "5483f3a0fa2944c4b8dac8989af2b22b": {
      "model_module": "@jupyter-widgets/base",
      "model_module_version": "1.2.0",
      "model_name": "LayoutModel",
      "state": {
       "_model_module": "@jupyter-widgets/base",
       "_model_module_version": "1.2.0",
       "_model_name": "LayoutModel",
       "_view_count": null,
       "_view_module": "@jupyter-widgets/base",
       "_view_module_version": "1.2.0",
       "_view_name": "LayoutView",
       "align_content": null,
       "align_items": null,
       "align_self": null,
       "border": null,
       "bottom": null,
       "display": null,
       "flex": null,
       "flex_flow": null,
       "grid_area": null,
       "grid_auto_columns": null,
       "grid_auto_flow": null,
       "grid_auto_rows": null,
       "grid_column": null,
       "grid_gap": null,
       "grid_row": null,
       "grid_template_areas": null,
       "grid_template_columns": null,
       "grid_template_rows": null,
       "height": null,
       "justify_content": null,
       "justify_items": null,
       "left": null,
       "margin": null,
       "max_height": null,
       "max_width": null,
       "min_height": null,
       "min_width": null,
       "object_fit": null,
       "object_position": null,
       "order": null,
       "overflow": null,
       "overflow_x": null,
       "overflow_y": null,
       "padding": null,
       "right": null,
       "top": null,
       "visibility": null,
       "width": null
      }
     },
     "5a90512721e5477fba415d992509e340": {
      "model_module": "@jupyter-widgets/controls",
      "model_module_version": "1.5.0",
      "model_name": "HTMLModel",
      "state": {
       "_dom_classes": [],
       "_model_module": "@jupyter-widgets/controls",
       "_model_module_version": "1.5.0",
       "_model_name": "HTMLModel",
       "_view_count": null,
       "_view_module": "@jupyter-widgets/controls",
       "_view_module_version": "1.5.0",
       "_view_name": "HTMLView",
       "description": "",
       "description_tooltip": null,
       "layout": "IPY_MODEL_6c19a86ca8fc42f488a5a65d92b63397",
       "placeholder": "​",
       "style": "IPY_MODEL_008fb63e1b8943d2871bf19ff41db10a",
       "value": "Downloading pytorch_model.bin: 100%"
      }
     },
     "5b04d28e238443f1a91791132dfa5370": {
      "model_module": "@jupyter-widgets/controls",
      "model_module_version": "1.5.0",
      "model_name": "HTMLModel",
      "state": {
       "_dom_classes": [],
       "_model_module": "@jupyter-widgets/controls",
       "_model_module_version": "1.5.0",
       "_model_name": "HTMLModel",
       "_view_count": null,
       "_view_module": "@jupyter-widgets/controls",
       "_view_module_version": "1.5.0",
       "_view_name": "HTMLView",
       "description": "",
       "description_tooltip": null,
       "layout": "IPY_MODEL_25bf38f74db14a02a3f328acb4949b1b",
       "placeholder": "​",
       "style": "IPY_MODEL_966dca804e1b4a628eb4194a50ce2fe1",
       "value": " 570/570 [00:00&lt;00:00, 30.1kB/s]"
      }
     },
     "6152fd59827146a080f0a3e112635214": {
      "model_module": "@jupyter-widgets/controls",
      "model_module_version": "1.5.0",
      "model_name": "FloatProgressModel",
      "state": {
       "_dom_classes": [],
       "_model_module": "@jupyter-widgets/controls",
       "_model_module_version": "1.5.0",
       "_model_name": "FloatProgressModel",
       "_view_count": null,
       "_view_module": "@jupyter-widgets/controls",
       "_view_module_version": "1.5.0",
       "_view_name": "ProgressView",
       "bar_style": "success",
       "description": "",
       "description_tooltip": null,
       "layout": "IPY_MODEL_8c5b9b3b88a74d968a4f7524aae106bc",
       "max": 570,
       "min": 0,
       "orientation": "horizontal",
       "style": "IPY_MODEL_ea0c98bb37f94fd18dc75e042c52886d",
       "value": 570
      }
     },
     "654f82d94486415d82d7758b7db7dc80": {
      "model_module": "@jupyter-widgets/controls",
      "model_module_version": "1.5.0",
      "model_name": "HTMLModel",
      "state": {
       "_dom_classes": [],
       "_model_module": "@jupyter-widgets/controls",
       "_model_module_version": "1.5.0",
       "_model_name": "HTMLModel",
       "_view_count": null,
       "_view_module": "@jupyter-widgets/controls",
       "_view_module_version": "1.5.0",
       "_view_name": "HTMLView",
       "description": "",
       "description_tooltip": null,
       "layout": "IPY_MODEL_5483f3a0fa2944c4b8dac8989af2b22b",
       "placeholder": "​",
       "style": "IPY_MODEL_34e82c9afe9f41ac8e2839df1605cd6f",
       "value": "Downloading (…)okenizer_config.json: 100%"
      }
     },
     "6783a56c7e1644aeb948dbde59a81582": {
      "model_module": "@jupyter-widgets/controls",
      "model_module_version": "1.5.0",
      "model_name": "HTMLModel",
      "state": {
       "_dom_classes": [],
       "_model_module": "@jupyter-widgets/controls",
       "_model_module_version": "1.5.0",
       "_model_name": "HTMLModel",
       "_view_count": null,
       "_view_module": "@jupyter-widgets/controls",
       "_view_module_version": "1.5.0",
       "_view_name": "HTMLView",
       "description": "",
       "description_tooltip": null,
       "layout": "IPY_MODEL_9d518f754ef24f4182675a7e9a714afc",
       "placeholder": "​",
       "style": "IPY_MODEL_e5451f7365df42598549d40327ef2139",
       "value": " 232k/232k [00:00&lt;00:00, 3.08MB/s]"
      }
     },
     "6c19a86ca8fc42f488a5a65d92b63397": {
      "model_module": "@jupyter-widgets/base",
      "model_module_version": "1.2.0",
      "model_name": "LayoutModel",
      "state": {
       "_model_module": "@jupyter-widgets/base",
       "_model_module_version": "1.2.0",
       "_model_name": "LayoutModel",
       "_view_count": null,
       "_view_module": "@jupyter-widgets/base",
       "_view_module_version": "1.2.0",
       "_view_name": "LayoutView",
       "align_content": null,
       "align_items": null,
       "align_self": null,
       "border": null,
       "bottom": null,
       "display": null,
       "flex": null,
       "flex_flow": null,
       "grid_area": null,
       "grid_auto_columns": null,
       "grid_auto_flow": null,
       "grid_auto_rows": null,
       "grid_column": null,
       "grid_gap": null,
       "grid_row": null,
       "grid_template_areas": null,
       "grid_template_columns": null,
       "grid_template_rows": null,
       "height": null,
       "justify_content": null,
       "justify_items": null,
       "left": null,
       "margin": null,
       "max_height": null,
       "max_width": null,
       "min_height": null,
       "min_width": null,
       "object_fit": null,
       "object_position": null,
       "order": null,
       "overflow": null,
       "overflow_x": null,
       "overflow_y": null,
       "padding": null,
       "right": null,
       "top": null,
       "visibility": null,
       "width": null
      }
     },
     "6d1d8b1281f948ccbfe96d5d5e8b447f": {
      "model_module": "@jupyter-widgets/controls",
      "model_module_version": "1.5.0",
      "model_name": "HTMLModel",
      "state": {
       "_dom_classes": [],
       "_model_module": "@jupyter-widgets/controls",
       "_model_module_version": "1.5.0",
       "_model_name": "HTMLModel",
       "_view_count": null,
       "_view_module": "@jupyter-widgets/controls",
       "_view_module_version": "1.5.0",
       "_view_name": "HTMLView",
       "description": "",
       "description_tooltip": null,
       "layout": "IPY_MODEL_739f8f53ec70406fbc39bb300a204a23",
       "placeholder": "​",
       "style": "IPY_MODEL_b6e9c491561449fa98600895b4a4cc46",
       "value": "Downloading (…)lve/main/config.json: 100%"
      }
     },
     "721510ff736c492697f13bf524e32531": {
      "model_module": "@jupyter-widgets/base",
      "model_module_version": "1.2.0",
      "model_name": "LayoutModel",
      "state": {
       "_model_module": "@jupyter-widgets/base",
       "_model_module_version": "1.2.0",
       "_model_name": "LayoutModel",
       "_view_count": null,
       "_view_module": "@jupyter-widgets/base",
       "_view_module_version": "1.2.0",
       "_view_name": "LayoutView",
       "align_content": null,
       "align_items": null,
       "align_self": null,
       "border": null,
       "bottom": null,
       "display": null,
       "flex": null,
       "flex_flow": null,
       "grid_area": null,
       "grid_auto_columns": null,
       "grid_auto_flow": null,
       "grid_auto_rows": null,
       "grid_column": null,
       "grid_gap": null,
       "grid_row": null,
       "grid_template_areas": null,
       "grid_template_columns": null,
       "grid_template_rows": null,
       "height": null,
       "justify_content": null,
       "justify_items": null,
       "left": null,
       "margin": null,
       "max_height": null,
       "max_width": null,
       "min_height": null,
       "min_width": null,
       "object_fit": null,
       "object_position": null,
       "order": null,
       "overflow": null,
       "overflow_x": null,
       "overflow_y": null,
       "padding": null,
       "right": null,
       "top": null,
       "visibility": null,
       "width": null
      }
     },
     "739f8f53ec70406fbc39bb300a204a23": {
      "model_module": "@jupyter-widgets/base",
      "model_module_version": "1.2.0",
      "model_name": "LayoutModel",
      "state": {
       "_model_module": "@jupyter-widgets/base",
       "_model_module_version": "1.2.0",
       "_model_name": "LayoutModel",
       "_view_count": null,
       "_view_module": "@jupyter-widgets/base",
       "_view_module_version": "1.2.0",
       "_view_name": "LayoutView",
       "align_content": null,
       "align_items": null,
       "align_self": null,
       "border": null,
       "bottom": null,
       "display": null,
       "flex": null,
       "flex_flow": null,
       "grid_area": null,
       "grid_auto_columns": null,
       "grid_auto_flow": null,
       "grid_auto_rows": null,
       "grid_column": null,
       "grid_gap": null,
       "grid_row": null,
       "grid_template_areas": null,
       "grid_template_columns": null,
       "grid_template_rows": null,
       "height": null,
       "justify_content": null,
       "justify_items": null,
       "left": null,
       "margin": null,
       "max_height": null,
       "max_width": null,
       "min_height": null,
       "min_width": null,
       "object_fit": null,
       "object_position": null,
       "order": null,
       "overflow": null,
       "overflow_x": null,
       "overflow_y": null,
       "padding": null,
       "right": null,
       "top": null,
       "visibility": null,
       "width": null
      }
     },
     "769081394e084e34a3817e6fcff8db62": {
      "model_module": "@jupyter-widgets/controls",
      "model_module_version": "1.5.0",
      "model_name": "HTMLModel",
      "state": {
       "_dom_classes": [],
       "_model_module": "@jupyter-widgets/controls",
       "_model_module_version": "1.5.0",
       "_model_name": "HTMLModel",
       "_view_count": null,
       "_view_module": "@jupyter-widgets/controls",
       "_view_module_version": "1.5.0",
       "_view_name": "HTMLView",
       "description": "",
       "description_tooltip": null,
       "layout": "IPY_MODEL_b1aa54b17f3b418ab0225286c3aff384",
       "placeholder": "​",
       "style": "IPY_MODEL_a13c806851fe4760aa37b228a767952c",
       "value": "Downloading (…)solve/main/vocab.txt: 100%"
      }
     },
     "78a2988639624f44910d999372a35e29": {
      "model_module": "@jupyter-widgets/controls",
      "model_module_version": "1.5.0",
      "model_name": "FloatProgressModel",
      "state": {
       "_dom_classes": [],
       "_model_module": "@jupyter-widgets/controls",
       "_model_module_version": "1.5.0",
       "_model_name": "FloatProgressModel",
       "_view_count": null,
       "_view_module": "@jupyter-widgets/controls",
       "_view_module_version": "1.5.0",
       "_view_name": "ProgressView",
       "bar_style": "success",
       "description": "",
       "description_tooltip": null,
       "layout": "IPY_MODEL_f35b99feff7042de875c61ab350e3d04",
       "max": 231508,
       "min": 0,
       "orientation": "horizontal",
       "style": "IPY_MODEL_ae9be9f9a74a42a0a2c04f39706a8088",
       "value": 231508
      }
     },
     "84f940d1da5b4301a3bbd9c8bde95e36": {
      "model_module": "@jupyter-widgets/base",
      "model_module_version": "1.2.0",
      "model_name": "LayoutModel",
      "state": {
       "_model_module": "@jupyter-widgets/base",
       "_model_module_version": "1.2.0",
       "_model_name": "LayoutModel",
       "_view_count": null,
       "_view_module": "@jupyter-widgets/base",
       "_view_module_version": "1.2.0",
       "_view_name": "LayoutView",
       "align_content": null,
       "align_items": null,
       "align_self": null,
       "border": null,
       "bottom": null,
       "display": null,
       "flex": null,
       "flex_flow": null,
       "grid_area": null,
       "grid_auto_columns": null,
       "grid_auto_flow": null,
       "grid_auto_rows": null,
       "grid_column": null,
       "grid_gap": null,
       "grid_row": null,
       "grid_template_areas": null,
       "grid_template_columns": null,
       "grid_template_rows": null,
       "height": null,
       "justify_content": null,
       "justify_items": null,
       "left": null,
       "margin": null,
       "max_height": null,
       "max_width": null,
       "min_height": null,
       "min_width": null,
       "object_fit": null,
       "object_position": null,
       "order": null,
       "overflow": null,
       "overflow_x": null,
       "overflow_y": null,
       "padding": null,
       "right": null,
       "top": null,
       "visibility": null,
       "width": null
      }
     },
     "8c5b9b3b88a74d968a4f7524aae106bc": {
      "model_module": "@jupyter-widgets/base",
      "model_module_version": "1.2.0",
      "model_name": "LayoutModel",
      "state": {
       "_model_module": "@jupyter-widgets/base",
       "_model_module_version": "1.2.0",
       "_model_name": "LayoutModel",
       "_view_count": null,
       "_view_module": "@jupyter-widgets/base",
       "_view_module_version": "1.2.0",
       "_view_name": "LayoutView",
       "align_content": null,
       "align_items": null,
       "align_self": null,
       "border": null,
       "bottom": null,
       "display": null,
       "flex": null,
       "flex_flow": null,
       "grid_area": null,
       "grid_auto_columns": null,
       "grid_auto_flow": null,
       "grid_auto_rows": null,
       "grid_column": null,
       "grid_gap": null,
       "grid_row": null,
       "grid_template_areas": null,
       "grid_template_columns": null,
       "grid_template_rows": null,
       "height": null,
       "justify_content": null,
       "justify_items": null,
       "left": null,
       "margin": null,
       "max_height": null,
       "max_width": null,
       "min_height": null,
       "min_width": null,
       "object_fit": null,
       "object_position": null,
       "order": null,
       "overflow": null,
       "overflow_x": null,
       "overflow_y": null,
       "padding": null,
       "right": null,
       "top": null,
       "visibility": null,
       "width": null
      }
     },
     "9426c78f726047b19ee79f37a36bc46b": {
      "model_module": "@jupyter-widgets/base",
      "model_module_version": "1.2.0",
      "model_name": "LayoutModel",
      "state": {
       "_model_module": "@jupyter-widgets/base",
       "_model_module_version": "1.2.0",
       "_model_name": "LayoutModel",
       "_view_count": null,
       "_view_module": "@jupyter-widgets/base",
       "_view_module_version": "1.2.0",
       "_view_name": "LayoutView",
       "align_content": null,
       "align_items": null,
       "align_self": null,
       "border": null,
       "bottom": null,
       "display": null,
       "flex": null,
       "flex_flow": null,
       "grid_area": null,
       "grid_auto_columns": null,
       "grid_auto_flow": null,
       "grid_auto_rows": null,
       "grid_column": null,
       "grid_gap": null,
       "grid_row": null,
       "grid_template_areas": null,
       "grid_template_columns": null,
       "grid_template_rows": null,
       "height": null,
       "justify_content": null,
       "justify_items": null,
       "left": null,
       "margin": null,
       "max_height": null,
       "max_width": null,
       "min_height": null,
       "min_width": null,
       "object_fit": null,
       "object_position": null,
       "order": null,
       "overflow": null,
       "overflow_x": null,
       "overflow_y": null,
       "padding": null,
       "right": null,
       "top": null,
       "visibility": null,
       "width": null
      }
     },
     "966dca804e1b4a628eb4194a50ce2fe1": {
      "model_module": "@jupyter-widgets/controls",
      "model_module_version": "1.5.0",
      "model_name": "DescriptionStyleModel",
      "state": {
       "_model_module": "@jupyter-widgets/controls",
       "_model_module_version": "1.5.0",
       "_model_name": "DescriptionStyleModel",
       "_view_count": null,
       "_view_module": "@jupyter-widgets/base",
       "_view_module_version": "1.2.0",
       "_view_name": "StyleView",
       "description_width": ""
      }
     },
     "98f1abe102e84598af8cb44b5807c8e8": {
      "model_module": "@jupyter-widgets/base",
      "model_module_version": "1.2.0",
      "model_name": "LayoutModel",
      "state": {
       "_model_module": "@jupyter-widgets/base",
       "_model_module_version": "1.2.0",
       "_model_name": "LayoutModel",
       "_view_count": null,
       "_view_module": "@jupyter-widgets/base",
       "_view_module_version": "1.2.0",
       "_view_name": "LayoutView",
       "align_content": null,
       "align_items": null,
       "align_self": null,
       "border": null,
       "bottom": null,
       "display": null,
       "flex": null,
       "flex_flow": null,
       "grid_area": null,
       "grid_auto_columns": null,
       "grid_auto_flow": null,
       "grid_auto_rows": null,
       "grid_column": null,
       "grid_gap": null,
       "grid_row": null,
       "grid_template_areas": null,
       "grid_template_columns": null,
       "grid_template_rows": null,
       "height": null,
       "justify_content": null,
       "justify_items": null,
       "left": null,
       "margin": null,
       "max_height": null,
       "max_width": null,
       "min_height": null,
       "min_width": null,
       "object_fit": null,
       "object_position": null,
       "order": null,
       "overflow": null,
       "overflow_x": null,
       "overflow_y": null,
       "padding": null,
       "right": null,
       "top": null,
       "visibility": null,
       "width": null
      }
     },
     "9d518f754ef24f4182675a7e9a714afc": {
      "model_module": "@jupyter-widgets/base",
      "model_module_version": "1.2.0",
      "model_name": "LayoutModel",
      "state": {
       "_model_module": "@jupyter-widgets/base",
       "_model_module_version": "1.2.0",
       "_model_name": "LayoutModel",
       "_view_count": null,
       "_view_module": "@jupyter-widgets/base",
       "_view_module_version": "1.2.0",
       "_view_name": "LayoutView",
       "align_content": null,
       "align_items": null,
       "align_self": null,
       "border": null,
       "bottom": null,
       "display": null,
       "flex": null,
       "flex_flow": null,
       "grid_area": null,
       "grid_auto_columns": null,
       "grid_auto_flow": null,
       "grid_auto_rows": null,
       "grid_column": null,
       "grid_gap": null,
       "grid_row": null,
       "grid_template_areas": null,
       "grid_template_columns": null,
       "grid_template_rows": null,
       "height": null,
       "justify_content": null,
       "justify_items": null,
       "left": null,
       "margin": null,
       "max_height": null,
       "max_width": null,
       "min_height": null,
       "min_width": null,
       "object_fit": null,
       "object_position": null,
       "order": null,
       "overflow": null,
       "overflow_x": null,
       "overflow_y": null,
       "padding": null,
       "right": null,
       "top": null,
       "visibility": null,
       "width": null
      }
     },
     "a13c806851fe4760aa37b228a767952c": {
      "model_module": "@jupyter-widgets/controls",
      "model_module_version": "1.5.0",
      "model_name": "DescriptionStyleModel",
      "state": {
       "_model_module": "@jupyter-widgets/controls",
       "_model_module_version": "1.5.0",
       "_model_name": "DescriptionStyleModel",
       "_view_count": null,
       "_view_module": "@jupyter-widgets/base",
       "_view_module_version": "1.2.0",
       "_view_name": "StyleView",
       "description_width": ""
      }
     },
     "ae9be9f9a74a42a0a2c04f39706a8088": {
      "model_module": "@jupyter-widgets/controls",
      "model_module_version": "1.5.0",
      "model_name": "ProgressStyleModel",
      "state": {
       "_model_module": "@jupyter-widgets/controls",
       "_model_module_version": "1.5.0",
       "_model_name": "ProgressStyleModel",
       "_view_count": null,
       "_view_module": "@jupyter-widgets/base",
       "_view_module_version": "1.2.0",
       "_view_name": "StyleView",
       "bar_color": null,
       "description_width": ""
      }
     },
     "b1aa54b17f3b418ab0225286c3aff384": {
      "model_module": "@jupyter-widgets/base",
      "model_module_version": "1.2.0",
      "model_name": "LayoutModel",
      "state": {
       "_model_module": "@jupyter-widgets/base",
       "_model_module_version": "1.2.0",
       "_model_name": "LayoutModel",
       "_view_count": null,
       "_view_module": "@jupyter-widgets/base",
       "_view_module_version": "1.2.0",
       "_view_name": "LayoutView",
       "align_content": null,
       "align_items": null,
       "align_self": null,
       "border": null,
       "bottom": null,
       "display": null,
       "flex": null,
       "flex_flow": null,
       "grid_area": null,
       "grid_auto_columns": null,
       "grid_auto_flow": null,
       "grid_auto_rows": null,
       "grid_column": null,
       "grid_gap": null,
       "grid_row": null,
       "grid_template_areas": null,
       "grid_template_columns": null,
       "grid_template_rows": null,
       "height": null,
       "justify_content": null,
       "justify_items": null,
       "left": null,
       "margin": null,
       "max_height": null,
       "max_width": null,
       "min_height": null,
       "min_width": null,
       "object_fit": null,
       "object_position": null,
       "order": null,
       "overflow": null,
       "overflow_x": null,
       "overflow_y": null,
       "padding": null,
       "right": null,
       "top": null,
       "visibility": null,
       "width": null
      }
     },
     "b4d011731c1442a5aa7abe59e2ff16e3": {
      "model_module": "@jupyter-widgets/controls",
      "model_module_version": "1.5.0",
      "model_name": "HBoxModel",
      "state": {
       "_dom_classes": [],
       "_model_module": "@jupyter-widgets/controls",
       "_model_module_version": "1.5.0",
       "_model_name": "HBoxModel",
       "_view_count": null,
       "_view_module": "@jupyter-widgets/controls",
       "_view_module_version": "1.5.0",
       "_view_name": "HBoxView",
       "box_style": "",
       "children": [
        "IPY_MODEL_5a90512721e5477fba415d992509e340",
        "IPY_MODEL_043dc14cff5c49378aa0335c0279b834",
        "IPY_MODEL_de23e3904253453a8c5fa593149dcb67"
       ],
       "layout": "IPY_MODEL_721510ff736c492697f13bf524e32531"
      }
     },
     "b6e9c491561449fa98600895b4a4cc46": {
      "model_module": "@jupyter-widgets/controls",
      "model_module_version": "1.5.0",
      "model_name": "DescriptionStyleModel",
      "state": {
       "_model_module": "@jupyter-widgets/controls",
       "_model_module_version": "1.5.0",
       "_model_name": "DescriptionStyleModel",
       "_view_count": null,
       "_view_module": "@jupyter-widgets/base",
       "_view_module_version": "1.2.0",
       "_view_name": "StyleView",
       "description_width": ""
      }
     },
     "b77b72a5f3e54ecab6a24d9a13dc881d": {
      "model_module": "@jupyter-widgets/controls",
      "model_module_version": "1.5.0",
      "model_name": "DescriptionStyleModel",
      "state": {
       "_model_module": "@jupyter-widgets/controls",
       "_model_module_version": "1.5.0",
       "_model_name": "DescriptionStyleModel",
       "_view_count": null,
       "_view_module": "@jupyter-widgets/base",
       "_view_module_version": "1.2.0",
       "_view_name": "StyleView",
       "description_width": ""
      }
     },
     "c3dadf90890a45a982eaf922ee0b8bcf": {
      "model_module": "@jupyter-widgets/controls",
      "model_module_version": "1.5.0",
      "model_name": "ProgressStyleModel",
      "state": {
       "_model_module": "@jupyter-widgets/controls",
       "_model_module_version": "1.5.0",
       "_model_name": "ProgressStyleModel",
       "_view_count": null,
       "_view_module": "@jupyter-widgets/base",
       "_view_module_version": "1.2.0",
       "_view_name": "StyleView",
       "bar_color": null,
       "description_width": ""
      }
     },
     "d3b75a338b7b483caaeaf8d2b1ded2ba": {
      "model_module": "@jupyter-widgets/controls",
      "model_module_version": "1.5.0",
      "model_name": "FloatProgressModel",
      "state": {
       "_dom_classes": [],
       "_model_module": "@jupyter-widgets/controls",
       "_model_module_version": "1.5.0",
       "_model_name": "FloatProgressModel",
       "_view_count": null,
       "_view_module": "@jupyter-widgets/controls",
       "_view_module_version": "1.5.0",
       "_view_name": "ProgressView",
       "bar_style": "success",
       "description": "",
       "description_tooltip": null,
       "layout": "IPY_MODEL_98f1abe102e84598af8cb44b5807c8e8",
       "max": 28,
       "min": 0,
       "orientation": "horizontal",
       "style": "IPY_MODEL_3a9201d928714e378cb4ca84b87dbded",
       "value": 28
      }
     },
     "de23e3904253453a8c5fa593149dcb67": {
      "model_module": "@jupyter-widgets/controls",
      "model_module_version": "1.5.0",
      "model_name": "HTMLModel",
      "state": {
       "_dom_classes": [],
       "_model_module": "@jupyter-widgets/controls",
       "_model_module_version": "1.5.0",
       "_model_name": "HTMLModel",
       "_view_count": null,
       "_view_module": "@jupyter-widgets/controls",
       "_view_module_version": "1.5.0",
       "_view_name": "HTMLView",
       "description": "",
       "description_tooltip": null,
       "layout": "IPY_MODEL_84f940d1da5b4301a3bbd9c8bde95e36",
       "placeholder": "​",
       "style": "IPY_MODEL_f862372c4349466a851da7b920396135",
       "value": " 440M/440M [00:02&lt;00:00, 258MB/s]"
      }
     },
     "e5451f7365df42598549d40327ef2139": {
      "model_module": "@jupyter-widgets/controls",
      "model_module_version": "1.5.0",
      "model_name": "DescriptionStyleModel",
      "state": {
       "_model_module": "@jupyter-widgets/controls",
       "_model_module_version": "1.5.0",
       "_model_name": "DescriptionStyleModel",
       "_view_count": null,
       "_view_module": "@jupyter-widgets/base",
       "_view_module_version": "1.2.0",
       "_view_name": "StyleView",
       "description_width": ""
      }
     },
     "ea0c98bb37f94fd18dc75e042c52886d": {
      "model_module": "@jupyter-widgets/controls",
      "model_module_version": "1.5.0",
      "model_name": "ProgressStyleModel",
      "state": {
       "_model_module": "@jupyter-widgets/controls",
       "_model_module_version": "1.5.0",
       "_model_name": "ProgressStyleModel",
       "_view_count": null,
       "_view_module": "@jupyter-widgets/base",
       "_view_module_version": "1.2.0",
       "_view_name": "StyleView",
       "bar_color": null,
       "description_width": ""
      }
     },
     "f347a19ac3024545b0c86fc2c932295a": {
      "model_module": "@jupyter-widgets/controls",
      "model_module_version": "1.5.0",
      "model_name": "HBoxModel",
      "state": {
       "_dom_classes": [],
       "_model_module": "@jupyter-widgets/controls",
       "_model_module_version": "1.5.0",
       "_model_name": "HBoxModel",
       "_view_count": null,
       "_view_module": "@jupyter-widgets/controls",
       "_view_module_version": "1.5.0",
       "_view_name": "HBoxView",
       "box_style": "",
       "children": [
        "IPY_MODEL_6d1d8b1281f948ccbfe96d5d5e8b447f",
        "IPY_MODEL_6152fd59827146a080f0a3e112635214",
        "IPY_MODEL_5b04d28e238443f1a91791132dfa5370"
       ],
       "layout": "IPY_MODEL_4ea25db237a74661aa61992ef269451f"
      }
     },
     "f35b99feff7042de875c61ab350e3d04": {
      "model_module": "@jupyter-widgets/base",
      "model_module_version": "1.2.0",
      "model_name": "LayoutModel",
      "state": {
       "_model_module": "@jupyter-widgets/base",
       "_model_module_version": "1.2.0",
       "_model_name": "LayoutModel",
       "_view_count": null,
       "_view_module": "@jupyter-widgets/base",
       "_view_module_version": "1.2.0",
       "_view_name": "LayoutView",
       "align_content": null,
       "align_items": null,
       "align_self": null,
       "border": null,
       "bottom": null,
       "display": null,
       "flex": null,
       "flex_flow": null,
       "grid_area": null,
       "grid_auto_columns": null,
       "grid_auto_flow": null,
       "grid_auto_rows": null,
       "grid_column": null,
       "grid_gap": null,
       "grid_row": null,
       "grid_template_areas": null,
       "grid_template_columns": null,
       "grid_template_rows": null,
       "height": null,
       "justify_content": null,
       "justify_items": null,
       "left": null,
       "margin": null,
       "max_height": null,
       "max_width": null,
       "min_height": null,
       "min_width": null,
       "object_fit": null,
       "object_position": null,
       "order": null,
       "overflow": null,
       "overflow_x": null,
       "overflow_y": null,
       "padding": null,
       "right": null,
       "top": null,
       "visibility": null,
       "width": null
      }
     },
     "f862372c4349466a851da7b920396135": {
      "model_module": "@jupyter-widgets/controls",
      "model_module_version": "1.5.0",
      "model_name": "DescriptionStyleModel",
      "state": {
       "_model_module": "@jupyter-widgets/controls",
       "_model_module_version": "1.5.0",
       "_model_name": "DescriptionStyleModel",
       "_view_count": null,
       "_view_module": "@jupyter-widgets/base",
       "_view_module_version": "1.2.0",
       "_view_name": "StyleView",
       "description_width": ""
      }
     },
     "fefa7f9340d643e3b678a7f08abbe2c6": {
      "model_module": "@jupyter-widgets/controls",
      "model_module_version": "1.5.0",
      "model_name": "HBoxModel",
      "state": {
       "_dom_classes": [],
       "_model_module": "@jupyter-widgets/controls",
       "_model_module_version": "1.5.0",
       "_model_name": "HBoxModel",
       "_view_count": null,
       "_view_module": "@jupyter-widgets/controls",
       "_view_module_version": "1.5.0",
       "_view_name": "HBoxView",
       "box_style": "",
       "children": [
        "IPY_MODEL_769081394e084e34a3817e6fcff8db62",
        "IPY_MODEL_78a2988639624f44910d999372a35e29",
        "IPY_MODEL_6783a56c7e1644aeb948dbde59a81582"
       ],
       "layout": "IPY_MODEL_2602ec937a9840c9a8161e80e569c6a1"
      }
     }
    },
    "version_major": 2,
    "version_minor": 0
   }
  }
 },
 "nbformat": 4,
 "nbformat_minor": 5
}
